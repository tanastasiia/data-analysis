{
 "cells": [
  {
   "cell_type": "code",
   "execution_count": 4,
   "metadata": {},
   "outputs": [],
   "source": [
    "import matplotlib.pyplot as plt\n",
    "import pandas as pd\n",
    "import seaborn as sns\n",
    "from keras.utils.np_utils import to_categorical\n",
    "from sklearn.model_selection import train_test_split\n",
    "from sklearn.preprocessing import LabelEncoder\n",
    "from tensorflow.keras.layers import Dense\n",
    "from tensorflow.keras.models import Sequential\n",
    "from keras.layers import Embedding, Dropout, LSTM\n",
    "from keras_preprocessing.sequence import pad_sequences\n",
    "from keras.preprocessing.text import Tokenizer\n",
    "from keras.utils import np_utils\n",
    "from keras.layers import Conv2D, MaxPooling2D, Flatten, Dropout\n",
    "from keras.layers.advanced_activations import LeakyReLU\n",
    "from tensorflow import keras\n",
    "import imageio\n",
    "from keras.preprocessing.image import ImageDataGenerator\n",
    "from keras.callbacks import ModelCheckpoint, Callback, EarlyStopping, ReduceLROnPlateau\n",
    "import ssl\n",
    "ssl._create_default_https_context = ssl._create_unverified_context\n",
    "\n",
    "import os\n",
    "import numpy as np\n",
    "import skimage\n",
    "import skimage.io\n",
    "import skimage.transform\n",
    "from keras.layers import Dense, Conv2D, Flatten, MaxPool2D, Dropout, BatchNormalization,LeakyReLU\n"
   ]
  },
  {
   "cell_type": "code",
   "execution_count": null,
   "metadata": {},
   "outputs": [],
   "source": []
  },
  {
   "cell_type": "markdown",
   "metadata": {},
   "source": [
    "## 1. Повнозв’язаноа нейромережа прямого поширення (fully connected feed-forward network)"
   ]
  },
  {
   "cell_type": "code",
   "execution_count": 204,
   "metadata": {},
   "outputs": [
    {
     "data": {
      "text/html": [
       "<div>\n",
       "<style scoped>\n",
       "    .dataframe tbody tr th:only-of-type {\n",
       "        vertical-align: middle;\n",
       "    }\n",
       "\n",
       "    .dataframe tbody tr th {\n",
       "        vertical-align: top;\n",
       "    }\n",
       "\n",
       "    .dataframe thead th {\n",
       "        text-align: right;\n",
       "    }\n",
       "</style>\n",
       "<table border=\"1\" class=\"dataframe\">\n",
       "  <thead>\n",
       "    <tr style=\"text-align: right;\">\n",
       "      <th></th>\n",
       "      <th>battery_power</th>\n",
       "      <th>blue</th>\n",
       "      <th>clock_speed</th>\n",
       "      <th>dual_sim</th>\n",
       "      <th>fc</th>\n",
       "      <th>four_g</th>\n",
       "      <th>int_memory</th>\n",
       "      <th>m_dep</th>\n",
       "      <th>mobile_wt</th>\n",
       "      <th>n_cores</th>\n",
       "      <th>...</th>\n",
       "      <th>px_height</th>\n",
       "      <th>px_width</th>\n",
       "      <th>ram</th>\n",
       "      <th>sc_h</th>\n",
       "      <th>sc_w</th>\n",
       "      <th>talk_time</th>\n",
       "      <th>three_g</th>\n",
       "      <th>touch_screen</th>\n",
       "      <th>wifi</th>\n",
       "      <th>price_range</th>\n",
       "    </tr>\n",
       "  </thead>\n",
       "  <tbody>\n",
       "    <tr>\n",
       "      <th>count</th>\n",
       "      <td>2000.000000</td>\n",
       "      <td>2000.0000</td>\n",
       "      <td>2000.000000</td>\n",
       "      <td>2000.000000</td>\n",
       "      <td>2000.000000</td>\n",
       "      <td>2000.000000</td>\n",
       "      <td>2000.000000</td>\n",
       "      <td>2000.000000</td>\n",
       "      <td>2000.000000</td>\n",
       "      <td>2000.000000</td>\n",
       "      <td>...</td>\n",
       "      <td>2000.000000</td>\n",
       "      <td>2000.000000</td>\n",
       "      <td>2000.000000</td>\n",
       "      <td>2000.000000</td>\n",
       "      <td>2000.000000</td>\n",
       "      <td>2000.000000</td>\n",
       "      <td>2000.000000</td>\n",
       "      <td>2000.000000</td>\n",
       "      <td>2000.000000</td>\n",
       "      <td>2000.000000</td>\n",
       "    </tr>\n",
       "    <tr>\n",
       "      <th>mean</th>\n",
       "      <td>1238.518500</td>\n",
       "      <td>0.4950</td>\n",
       "      <td>1.522250</td>\n",
       "      <td>0.509500</td>\n",
       "      <td>4.309500</td>\n",
       "      <td>0.521500</td>\n",
       "      <td>32.046500</td>\n",
       "      <td>0.501750</td>\n",
       "      <td>140.249000</td>\n",
       "      <td>4.520500</td>\n",
       "      <td>...</td>\n",
       "      <td>645.108000</td>\n",
       "      <td>1251.515500</td>\n",
       "      <td>2124.213000</td>\n",
       "      <td>12.306500</td>\n",
       "      <td>5.767000</td>\n",
       "      <td>11.011000</td>\n",
       "      <td>0.761500</td>\n",
       "      <td>0.503000</td>\n",
       "      <td>0.507000</td>\n",
       "      <td>1.500000</td>\n",
       "    </tr>\n",
       "    <tr>\n",
       "      <th>std</th>\n",
       "      <td>439.418206</td>\n",
       "      <td>0.5001</td>\n",
       "      <td>0.816004</td>\n",
       "      <td>0.500035</td>\n",
       "      <td>4.341444</td>\n",
       "      <td>0.499662</td>\n",
       "      <td>18.145715</td>\n",
       "      <td>0.288416</td>\n",
       "      <td>35.399655</td>\n",
       "      <td>2.287837</td>\n",
       "      <td>...</td>\n",
       "      <td>443.780811</td>\n",
       "      <td>432.199447</td>\n",
       "      <td>1084.732044</td>\n",
       "      <td>4.213245</td>\n",
       "      <td>4.356398</td>\n",
       "      <td>5.463955</td>\n",
       "      <td>0.426273</td>\n",
       "      <td>0.500116</td>\n",
       "      <td>0.500076</td>\n",
       "      <td>1.118314</td>\n",
       "    </tr>\n",
       "    <tr>\n",
       "      <th>min</th>\n",
       "      <td>501.000000</td>\n",
       "      <td>0.0000</td>\n",
       "      <td>0.500000</td>\n",
       "      <td>0.000000</td>\n",
       "      <td>0.000000</td>\n",
       "      <td>0.000000</td>\n",
       "      <td>2.000000</td>\n",
       "      <td>0.100000</td>\n",
       "      <td>80.000000</td>\n",
       "      <td>1.000000</td>\n",
       "      <td>...</td>\n",
       "      <td>0.000000</td>\n",
       "      <td>500.000000</td>\n",
       "      <td>256.000000</td>\n",
       "      <td>5.000000</td>\n",
       "      <td>0.000000</td>\n",
       "      <td>2.000000</td>\n",
       "      <td>0.000000</td>\n",
       "      <td>0.000000</td>\n",
       "      <td>0.000000</td>\n",
       "      <td>0.000000</td>\n",
       "    </tr>\n",
       "    <tr>\n",
       "      <th>25%</th>\n",
       "      <td>851.750000</td>\n",
       "      <td>0.0000</td>\n",
       "      <td>0.700000</td>\n",
       "      <td>0.000000</td>\n",
       "      <td>1.000000</td>\n",
       "      <td>0.000000</td>\n",
       "      <td>16.000000</td>\n",
       "      <td>0.200000</td>\n",
       "      <td>109.000000</td>\n",
       "      <td>3.000000</td>\n",
       "      <td>...</td>\n",
       "      <td>282.750000</td>\n",
       "      <td>874.750000</td>\n",
       "      <td>1207.500000</td>\n",
       "      <td>9.000000</td>\n",
       "      <td>2.000000</td>\n",
       "      <td>6.000000</td>\n",
       "      <td>1.000000</td>\n",
       "      <td>0.000000</td>\n",
       "      <td>0.000000</td>\n",
       "      <td>0.750000</td>\n",
       "    </tr>\n",
       "    <tr>\n",
       "      <th>50%</th>\n",
       "      <td>1226.000000</td>\n",
       "      <td>0.0000</td>\n",
       "      <td>1.500000</td>\n",
       "      <td>1.000000</td>\n",
       "      <td>3.000000</td>\n",
       "      <td>1.000000</td>\n",
       "      <td>32.000000</td>\n",
       "      <td>0.500000</td>\n",
       "      <td>141.000000</td>\n",
       "      <td>4.000000</td>\n",
       "      <td>...</td>\n",
       "      <td>564.000000</td>\n",
       "      <td>1247.000000</td>\n",
       "      <td>2146.500000</td>\n",
       "      <td>12.000000</td>\n",
       "      <td>5.000000</td>\n",
       "      <td>11.000000</td>\n",
       "      <td>1.000000</td>\n",
       "      <td>1.000000</td>\n",
       "      <td>1.000000</td>\n",
       "      <td>1.500000</td>\n",
       "    </tr>\n",
       "    <tr>\n",
       "      <th>75%</th>\n",
       "      <td>1615.250000</td>\n",
       "      <td>1.0000</td>\n",
       "      <td>2.200000</td>\n",
       "      <td>1.000000</td>\n",
       "      <td>7.000000</td>\n",
       "      <td>1.000000</td>\n",
       "      <td>48.000000</td>\n",
       "      <td>0.800000</td>\n",
       "      <td>170.000000</td>\n",
       "      <td>7.000000</td>\n",
       "      <td>...</td>\n",
       "      <td>947.250000</td>\n",
       "      <td>1633.000000</td>\n",
       "      <td>3064.500000</td>\n",
       "      <td>16.000000</td>\n",
       "      <td>9.000000</td>\n",
       "      <td>16.000000</td>\n",
       "      <td>1.000000</td>\n",
       "      <td>1.000000</td>\n",
       "      <td>1.000000</td>\n",
       "      <td>2.250000</td>\n",
       "    </tr>\n",
       "    <tr>\n",
       "      <th>max</th>\n",
       "      <td>1998.000000</td>\n",
       "      <td>1.0000</td>\n",
       "      <td>3.000000</td>\n",
       "      <td>1.000000</td>\n",
       "      <td>19.000000</td>\n",
       "      <td>1.000000</td>\n",
       "      <td>64.000000</td>\n",
       "      <td>1.000000</td>\n",
       "      <td>200.000000</td>\n",
       "      <td>8.000000</td>\n",
       "      <td>...</td>\n",
       "      <td>1960.000000</td>\n",
       "      <td>1998.000000</td>\n",
       "      <td>3998.000000</td>\n",
       "      <td>19.000000</td>\n",
       "      <td>18.000000</td>\n",
       "      <td>20.000000</td>\n",
       "      <td>1.000000</td>\n",
       "      <td>1.000000</td>\n",
       "      <td>1.000000</td>\n",
       "      <td>3.000000</td>\n",
       "    </tr>\n",
       "  </tbody>\n",
       "</table>\n",
       "<p>8 rows × 21 columns</p>\n",
       "</div>"
      ],
      "text/plain": [
       "       battery_power       blue  clock_speed     dual_sim           fc  \\\n",
       "count    2000.000000  2000.0000  2000.000000  2000.000000  2000.000000   \n",
       "mean     1238.518500     0.4950     1.522250     0.509500     4.309500   \n",
       "std       439.418206     0.5001     0.816004     0.500035     4.341444   \n",
       "min       501.000000     0.0000     0.500000     0.000000     0.000000   \n",
       "25%       851.750000     0.0000     0.700000     0.000000     1.000000   \n",
       "50%      1226.000000     0.0000     1.500000     1.000000     3.000000   \n",
       "75%      1615.250000     1.0000     2.200000     1.000000     7.000000   \n",
       "max      1998.000000     1.0000     3.000000     1.000000    19.000000   \n",
       "\n",
       "            four_g   int_memory        m_dep    mobile_wt      n_cores  ...  \\\n",
       "count  2000.000000  2000.000000  2000.000000  2000.000000  2000.000000  ...   \n",
       "mean      0.521500    32.046500     0.501750   140.249000     4.520500  ...   \n",
       "std       0.499662    18.145715     0.288416    35.399655     2.287837  ...   \n",
       "min       0.000000     2.000000     0.100000    80.000000     1.000000  ...   \n",
       "25%       0.000000    16.000000     0.200000   109.000000     3.000000  ...   \n",
       "50%       1.000000    32.000000     0.500000   141.000000     4.000000  ...   \n",
       "75%       1.000000    48.000000     0.800000   170.000000     7.000000  ...   \n",
       "max       1.000000    64.000000     1.000000   200.000000     8.000000  ...   \n",
       "\n",
       "         px_height     px_width          ram         sc_h         sc_w  \\\n",
       "count  2000.000000  2000.000000  2000.000000  2000.000000  2000.000000   \n",
       "mean    645.108000  1251.515500  2124.213000    12.306500     5.767000   \n",
       "std     443.780811   432.199447  1084.732044     4.213245     4.356398   \n",
       "min       0.000000   500.000000   256.000000     5.000000     0.000000   \n",
       "25%     282.750000   874.750000  1207.500000     9.000000     2.000000   \n",
       "50%     564.000000  1247.000000  2146.500000    12.000000     5.000000   \n",
       "75%     947.250000  1633.000000  3064.500000    16.000000     9.000000   \n",
       "max    1960.000000  1998.000000  3998.000000    19.000000    18.000000   \n",
       "\n",
       "         talk_time      three_g  touch_screen         wifi  price_range  \n",
       "count  2000.000000  2000.000000   2000.000000  2000.000000  2000.000000  \n",
       "mean     11.011000     0.761500      0.503000     0.507000     1.500000  \n",
       "std       5.463955     0.426273      0.500116     0.500076     1.118314  \n",
       "min       2.000000     0.000000      0.000000     0.000000     0.000000  \n",
       "25%       6.000000     1.000000      0.000000     0.000000     0.750000  \n",
       "50%      11.000000     1.000000      1.000000     1.000000     1.500000  \n",
       "75%      16.000000     1.000000      1.000000     1.000000     2.250000  \n",
       "max      20.000000     1.000000      1.000000     1.000000     3.000000  \n",
       "\n",
       "[8 rows x 21 columns]"
      ]
     },
     "execution_count": 204,
     "metadata": {},
     "output_type": "execute_result"
    }
   ],
   "source": [
    "df = pd.read_csv('datasets/mobile_price/train.csv')\n",
    "df.describe()"
   ]
  },
  {
   "cell_type": "code",
   "execution_count": 205,
   "metadata": {},
   "outputs": [],
   "source": [
    "le = LabelEncoder()\n",
    "for label in  [ 'price_range']:\n",
    "    df[label] = le.fit_transform(df[label])"
   ]
  },
  {
   "cell_type": "code",
   "execution_count": 206,
   "metadata": {},
   "outputs": [
    {
     "name": "stdout",
     "output_type": "stream",
     "text": [
      "(1400, 20)\n",
      "(600, 20)\n"
     ]
    }
   ],
   "source": [
    "X = df.drop('price_range', axis=1)\n",
    "y = df['price_range']\n",
    "\n",
    "X_train, X_test, y_train, y_test = train_test_split(X, y, test_size=0.30, random_state=42)\n",
    "print(X_train.shape);\n",
    "print(X_test.shape)"
   ]
  },
  {
   "cell_type": "code",
   "execution_count": 207,
   "metadata": {},
   "outputs": [],
   "source": [
    "y_train = to_categorical(y_train)\n",
    "y_test = to_categorical(y_test)"
   ]
  },
  {
   "cell_type": "code",
   "execution_count": 208,
   "metadata": {},
   "outputs": [],
   "source": [
    "model = Sequential()\n",
    "model.add(Dense(200, activation='relu', input_dim=X_train.shape[1]))\n",
    "model.add(Dense(100, activation='relu'))\n",
    "model.add(Dense(50, activation='relu'))\n",
    "model.add(Dense(y_test.shape[1], activation='softmax'))"
   ]
  },
  {
   "cell_type": "code",
   "execution_count": 209,
   "metadata": {},
   "outputs": [],
   "source": [
    "model.compile(optimizer='adam',\n",
    "              loss='categorical_crossentropy',\n",
    "              metrics=['accuracy'])"
   ]
  },
  {
   "cell_type": "code",
   "execution_count": 210,
   "metadata": {},
   "outputs": [
    {
     "name": "stdout",
     "output_type": "stream",
     "text": [
      "Epoch 1/100\n",
      "44/44 [==============================] - 1s 4ms/step - loss: 26.2575 - accuracy: 0.4279\n",
      "Epoch 2/100\n",
      "44/44 [==============================] - 0s 4ms/step - loss: 3.7686 - accuracy: 0.5079: 0s - loss: 3.7579 - accuracy: 0.50\n",
      "Epoch 3/100\n",
      "44/44 [==============================] - 0s 6ms/step - loss: 2.9551 - accuracy: 0.5471\n",
      "Epoch 4/100\n",
      "44/44 [==============================] - 0s 8ms/step - loss: 4.2524 - accuracy: 0.5193\n",
      "Epoch 5/100\n",
      "44/44 [==============================] - 0s 4ms/step - loss: 2.5936 - accuracy: 0.5736\n",
      "Epoch 6/100\n",
      "44/44 [==============================] - 0s 4ms/step - loss: 2.4679 - accuracy: 0.5836\n",
      "Epoch 7/100\n",
      "44/44 [==============================] - 0s 4ms/step - loss: 1.5822 - accuracy: 0.6179\n",
      "Epoch 8/100\n",
      "44/44 [==============================] - 0s 4ms/step - loss: 2.2246 - accuracy: 0.5857\n",
      "Epoch 9/100\n",
      "44/44 [==============================] - 0s 6ms/step - loss: 1.7076 - accuracy: 0.6193\n",
      "Epoch 10/100\n",
      "44/44 [==============================] - 0s 4ms/step - loss: 1.3395 - accuracy: 0.6257\n",
      "Epoch 11/100\n",
      "44/44 [==============================] - 0s 8ms/step - loss: 1.6042 - accuracy: 0.6121\n",
      "Epoch 12/100\n",
      "44/44 [==============================] - 0s 6ms/step - loss: 1.4572 - accuracy: 0.6179\n",
      "Epoch 13/100\n",
      "44/44 [==============================] - 0s 11ms/step - loss: 1.7716 - accuracy: 0.6221 0s - loss: 2.0593 - accuracy\n",
      "Epoch 14/100\n",
      "44/44 [==============================] - 0s 8ms/step - loss: 1.6317 - accuracy: 0.6421\n",
      "Epoch 15/100\n",
      "44/44 [==============================] - 0s 4ms/step - loss: 1.4906 - accuracy: 0.6429\n",
      "Epoch 16/100\n",
      "44/44 [==============================] - 0s 5ms/step - loss: 1.1277 - accuracy: 0.6714\n",
      "Epoch 17/100\n",
      "44/44 [==============================] - 0s 6ms/step - loss: 1.0848 - accuracy: 0.6843\n",
      "Epoch 18/100\n",
      "44/44 [==============================] - 0s 6ms/step - loss: 1.0760 - accuracy: 0.6721\n",
      "Epoch 19/100\n",
      "44/44 [==============================] - 0s 5ms/step - loss: 1.3888 - accuracy: 0.6450\n",
      "Epoch 20/100\n",
      "44/44 [==============================] - 0s 4ms/step - loss: 1.4795 - accuracy: 0.6471\n",
      "Epoch 21/100\n",
      "44/44 [==============================] - 0s 5ms/step - loss: 1.4890 - accuracy: 0.6407\n",
      "Epoch 22/100\n",
      "44/44 [==============================] - 0s 4ms/step - loss: 1.4604 - accuracy: 0.6400\n",
      "Epoch 23/100\n",
      "44/44 [==============================] - 0s 4ms/step - loss: 1.5356 - accuracy: 0.6500\n",
      "Epoch 24/100\n",
      "44/44 [==============================] - 0s 6ms/step - loss: 1.0574 - accuracy: 0.6579\n",
      "Epoch 25/100\n",
      "44/44 [==============================] - 0s 5ms/step - loss: 1.1419 - accuracy: 0.6793\n",
      "Epoch 26/100\n",
      "44/44 [==============================] - 0s 4ms/step - loss: 1.4639 - accuracy: 0.6550\n",
      "Epoch 27/100\n",
      "44/44 [==============================] - 0s 5ms/step - loss: 1.1868 - accuracy: 0.6643\n",
      "Epoch 28/100\n",
      "44/44 [==============================] - 0s 4ms/step - loss: 1.1087 - accuracy: 0.6750\n",
      "Epoch 29/100\n",
      "44/44 [==============================] - 0s 4ms/step - loss: 1.1740 - accuracy: 0.6586\n",
      "Epoch 30/100\n",
      "44/44 [==============================] - 0s 5ms/step - loss: 0.7793 - accuracy: 0.7107\n",
      "Epoch 31/100\n",
      "44/44 [==============================] - 0s 5ms/step - loss: 0.7077 - accuracy: 0.7321\n",
      "Epoch 32/100\n",
      "44/44 [==============================] - 0s 4ms/step - loss: 0.9898 - accuracy: 0.6664\n",
      "Epoch 33/100\n",
      "44/44 [==============================] - 0s 4ms/step - loss: 1.4128 - accuracy: 0.6257\n",
      "Epoch 34/100\n",
      "44/44 [==============================] - 0s 5ms/step - loss: 0.9061 - accuracy: 0.7093: 0s - loss: 1.0315 - accuracy: \n",
      "Epoch 35/100\n",
      "44/44 [==============================] - 0s 4ms/step - loss: 0.7499 - accuracy: 0.7143\n",
      "Epoch 36/100\n",
      "44/44 [==============================] - 0s 5ms/step - loss: 0.7277 - accuracy: 0.7164\n",
      "Epoch 37/100\n",
      "44/44 [==============================] - 0s 4ms/step - loss: 0.7200 - accuracy: 0.7307\n",
      "Epoch 38/100\n",
      "44/44 [==============================] - 0s 5ms/step - loss: 0.6506 - accuracy: 0.7429\n",
      "Epoch 39/100\n",
      "44/44 [==============================] - 0s 4ms/step - loss: 0.8702 - accuracy: 0.6886\n",
      "Epoch 40/100\n",
      "44/44 [==============================] - 0s 9ms/step - loss: 0.6569 - accuracy: 0.7314\n",
      "Epoch 41/100\n",
      "44/44 [==============================] - 0s 4ms/step - loss: 0.7299 - accuracy: 0.7207\n",
      "Epoch 42/100\n",
      "44/44 [==============================] - 0s 5ms/step - loss: 0.7372 - accuracy: 0.7150\n",
      "Epoch 43/100\n",
      "44/44 [==============================] - 0s 5ms/step - loss: 0.6948 - accuracy: 0.7457\n",
      "Epoch 44/100\n",
      "44/44 [==============================] - 0s 5ms/step - loss: 0.7762 - accuracy: 0.7143\n",
      "Epoch 45/100\n",
      "44/44 [==============================] - 0s 11ms/step - loss: 0.8045 - accuracy: 0.6893\n",
      "Epoch 46/100\n",
      "44/44 [==============================] - 1s 12ms/step - loss: 1.0767 - accuracy: 0.6743\n",
      "Epoch 47/100\n",
      "44/44 [==============================] - 0s 10ms/step - loss: 0.9637 - accuracy: 0.6621\n",
      "Epoch 48/100\n",
      "44/44 [==============================] - 0s 7ms/step - loss: 0.6665 - accuracy: 0.7336\n",
      "Epoch 49/100\n",
      "44/44 [==============================] - 0s 7ms/step - loss: 0.6953 - accuracy: 0.7136\n",
      "Epoch 50/100\n",
      "44/44 [==============================] - 0s 7ms/step - loss: 0.7710 - accuracy: 0.6936\n",
      "Epoch 51/100\n",
      "44/44 [==============================] - 0s 7ms/step - loss: 0.7702 - accuracy: 0.7100\n",
      "Epoch 52/100\n",
      "44/44 [==============================] - 0s 5ms/step - loss: 0.6037 - accuracy: 0.7457\n",
      "Epoch 53/100\n",
      "44/44 [==============================] - 0s 5ms/step - loss: 0.6288 - accuracy: 0.7379\n",
      "Epoch 54/100\n",
      "44/44 [==============================] - 0s 5ms/step - loss: 0.6681 - accuracy: 0.7200\n",
      "Epoch 55/100\n",
      "44/44 [==============================] - 0s 5ms/step - loss: 0.7039 - accuracy: 0.7136\n",
      "Epoch 56/100\n",
      "44/44 [==============================] - 0s 5ms/step - loss: 0.6328 - accuracy: 0.7336\n",
      "Epoch 57/100\n",
      "44/44 [==============================] - ETA: 0s - loss: 0.6576 - accuracy: 0.73 - 0s 6ms/step - loss: 0.6687 - accuracy: 0.7379\n",
      "Epoch 58/100\n",
      "44/44 [==============================] - ETA: 0s - loss: 0.5978 - accuracy: 0.74 - 0s 6ms/step - loss: 0.6205 - accuracy: 0.7393\n",
      "Epoch 59/100\n",
      "44/44 [==============================] - 0s 5ms/step - loss: 0.8738 - accuracy: 0.6871: 0s - loss: 0.8684 - accuracy\n",
      "Epoch 60/100\n",
      "44/44 [==============================] - 0s 5ms/step - loss: 0.6587 - accuracy: 0.7293\n",
      "Epoch 61/100\n",
      "44/44 [==============================] - 0s 6ms/step - loss: 0.5745 - accuracy: 0.7464\n",
      "Epoch 62/100\n",
      "44/44 [==============================] - 0s 8ms/step - loss: 0.6412 - accuracy: 0.7279\n",
      "Epoch 63/100\n",
      "44/44 [==============================] - 0s 5ms/step - loss: 0.6886 - accuracy: 0.7271\n",
      "Epoch 64/100\n",
      "44/44 [==============================] - 0s 4ms/step - loss: 0.6847 - accuracy: 0.7100\n",
      "Epoch 65/100\n",
      "44/44 [==============================] - 0s 4ms/step - loss: 0.6070 - accuracy: 0.7471\n",
      "Epoch 66/100\n",
      "44/44 [==============================] - 0s 6ms/step - loss: 0.6391 - accuracy: 0.7264\n",
      "Epoch 67/100\n",
      "44/44 [==============================] - 0s 5ms/step - loss: 0.6070 - accuracy: 0.7529\n",
      "Epoch 68/100\n",
      "44/44 [==============================] - 0s 5ms/step - loss: 0.6019 - accuracy: 0.7557\n",
      "Epoch 69/100\n",
      "44/44 [==============================] - 0s 5ms/step - loss: 0.5446 - accuracy: 0.7507: 0s - loss: 0.6015 - accuracy\n",
      "Epoch 70/100\n",
      "44/44 [==============================] - 0s 4ms/step - loss: 0.6240 - accuracy: 0.7350\n",
      "Epoch 71/100\n",
      "44/44 [==============================] - 0s 4ms/step - loss: 0.5862 - accuracy: 0.7529\n",
      "Epoch 72/100\n",
      "44/44 [==============================] - 0s 4ms/step - loss: 0.5454 - accuracy: 0.7743\n",
      "Epoch 73/100\n",
      "44/44 [==============================] - 0s 4ms/step - loss: 0.5607 - accuracy: 0.7579\n",
      "Epoch 74/100\n",
      "44/44 [==============================] - 0s 4ms/step - loss: 0.5501 - accuracy: 0.7571\n",
      "Epoch 75/100\n",
      "44/44 [==============================] - 0s 4ms/step - loss: 0.5465 - accuracy: 0.7693\n",
      "Epoch 76/100\n",
      "44/44 [==============================] - 0s 4ms/step - loss: 0.6245 - accuracy: 0.7321\n",
      "Epoch 77/100\n",
      "44/44 [==============================] - 0s 3ms/step - loss: 0.6139 - accuracy: 0.7350\n",
      "Epoch 78/100\n",
      "44/44 [==============================] - 0s 4ms/step - loss: 0.5314 - accuracy: 0.7629\n",
      "Epoch 79/100\n",
      "44/44 [==============================] - 0s 3ms/step - loss: 0.5703 - accuracy: 0.7571\n",
      "Epoch 80/100\n",
      "44/44 [==============================] - 0s 3ms/step - loss: 0.5019 - accuracy: 0.7757\n",
      "Epoch 81/100\n",
      "44/44 [==============================] - 0s 3ms/step - loss: 0.5490 - accuracy: 0.7593\n",
      "Epoch 82/100\n",
      "44/44 [==============================] - 0s 3ms/step - loss: 0.5970 - accuracy: 0.7407\n",
      "Epoch 83/100\n",
      "44/44 [==============================] - 0s 3ms/step - loss: 0.5601 - accuracy: 0.7521\n",
      "Epoch 84/100\n",
      "44/44 [==============================] - 0s 3ms/step - loss: 0.5724 - accuracy: 0.7564\n",
      "Epoch 85/100\n",
      "44/44 [==============================] - 0s 3ms/step - loss: 0.5955 - accuracy: 0.7421\n",
      "Epoch 86/100\n",
      "44/44 [==============================] - 0s 3ms/step - loss: 0.6114 - accuracy: 0.7300\n",
      "Epoch 87/100\n",
      "44/44 [==============================] - 0s 3ms/step - loss: 0.5266 - accuracy: 0.7607\n",
      "Epoch 88/100\n",
      "44/44 [==============================] - 0s 4ms/step - loss: 0.5538 - accuracy: 0.7743\n",
      "Epoch 89/100\n",
      "44/44 [==============================] - 0s 5ms/step - loss: 0.6078 - accuracy: 0.7586\n",
      "Epoch 90/100\n",
      "44/44 [==============================] - 0s 4ms/step - loss: 0.5302 - accuracy: 0.7807\n",
      "Epoch 91/100\n",
      "44/44 [==============================] - 0s 6ms/step - loss: 0.5148 - accuracy: 0.7764: 0s - loss: 0.4897 - accuracy: 0.\n",
      "Epoch 92/100\n",
      "44/44 [==============================] - 0s 9ms/step - loss: 0.5100 - accuracy: 0.7821\n",
      "Epoch 93/100\n",
      "44/44 [==============================] - 0s 7ms/step - loss: 0.5200 - accuracy: 0.7743\n",
      "Epoch 94/100\n",
      "44/44 [==============================] - 0s 6ms/step - loss: 0.6247 - accuracy: 0.7464\n",
      "Epoch 95/100\n",
      "44/44 [==============================] - 0s 8ms/step - loss: 0.5740 - accuracy: 0.7564\n",
      "Epoch 96/100\n",
      "44/44 [==============================] - 0s 7ms/step - loss: 0.5140 - accuracy: 0.7714\n",
      "Epoch 97/100\n",
      "44/44 [==============================] - 0s 6ms/step - loss: 0.6563 - accuracy: 0.7507\n",
      "Epoch 98/100\n",
      "44/44 [==============================] - 0s 7ms/step - loss: 0.4843 - accuracy: 0.7943\n",
      "Epoch 99/100\n",
      "44/44 [==============================] - 0s 7ms/step - loss: 0.4908 - accuracy: 0.7829\n",
      "Epoch 100/100\n",
      "44/44 [==============================] - 0s 8ms/step - loss: 0.5115 - accuracy: 0.7700\n"
     ]
    },
    {
     "data": {
      "text/plain": [
       "<keras.callbacks.History at 0x25110d58580>"
      ]
     },
     "execution_count": 210,
     "metadata": {},
     "output_type": "execute_result"
    }
   ],
   "source": [
    "model.fit(X_train, y_train, epochs=100)"
   ]
  },
  {
   "cell_type": "code",
   "execution_count": 211,
   "metadata": {},
   "outputs": [
    {
     "name": "stdout",
     "output_type": "stream",
     "text": [
      "Accuracy on training data: 0.7678571343421936% \n",
      " Error on training data: 0.2321428656578064\n",
      "Accuracy on test data: 0.7250000238418579% \n",
      " Error on test data: 0.2749999761581421\n"
     ]
    }
   ],
   "source": [
    "pred_train = model.predict(X_train)\n",
    "scores = model.evaluate(X_train, y_train, verbose=0)\n",
    "print('Accuracy on training data: {}% \\n Error on training data: {}'.format(scores[1], 1 - scores[1]))\n",
    "\n",
    "pred_test = model.predict(X_test)\n",
    "scores2 = model.evaluate(X_test, y_test, verbose=0)\n",
    "print('Accuracy on test data: {}% \\n Error on test data: {}'.format(scores2[1], 1 - scores2[1]))"
   ]
  },
  {
   "cell_type": "code",
   "execution_count": null,
   "metadata": {},
   "outputs": [],
   "source": []
  },
  {
   "cell_type": "code",
   "execution_count": null,
   "metadata": {},
   "outputs": [],
   "source": []
  },
  {
   "cell_type": "markdown",
   "metadata": {},
   "source": [
    "## 2. Класифікація зображень за допомогою згорткової (convolutional) нейромережі"
   ]
  },
  {
   "cell_type": "code",
   "execution_count": 5,
   "metadata": {},
   "outputs": [
    {
     "data": {
      "text/html": [
       "<div>\n",
       "<style scoped>\n",
       "    .dataframe tbody tr th:only-of-type {\n",
       "        vertical-align: middle;\n",
       "    }\n",
       "\n",
       "    .dataframe tbody tr th {\n",
       "        vertical-align: top;\n",
       "    }\n",
       "\n",
       "    .dataframe thead th {\n",
       "        text-align: right;\n",
       "    }\n",
       "</style>\n",
       "<table border=\"1\" class=\"dataframe\">\n",
       "  <thead>\n",
       "    <tr style=\"text-align: right;\">\n",
       "      <th></th>\n",
       "      <th>datetime</th>\n",
       "      <th>file</th>\n",
       "      <th>location</th>\n",
       "      <th>zip code</th>\n",
       "      <th>subspecies</th>\n",
       "      <th>health</th>\n",
       "      <th>pollen_carrying</th>\n",
       "      <th>caste</th>\n",
       "    </tr>\n",
       "  </thead>\n",
       "  <tbody>\n",
       "    <tr>\n",
       "      <th>0</th>\n",
       "      <td>2018-08-28 16:07:00</td>\n",
       "      <td>041_066.png</td>\n",
       "      <td>Alvin, TX, USA</td>\n",
       "      <td>77511</td>\n",
       "      <td>-1</td>\n",
       "      <td>hive being robbed</td>\n",
       "      <td>False</td>\n",
       "      <td>worker</td>\n",
       "    </tr>\n",
       "    <tr>\n",
       "      <th>1</th>\n",
       "      <td>2018-08-28 16:07:00</td>\n",
       "      <td>041_072.png</td>\n",
       "      <td>Alvin, TX, USA</td>\n",
       "      <td>77511</td>\n",
       "      <td>-1</td>\n",
       "      <td>hive being robbed</td>\n",
       "      <td>False</td>\n",
       "      <td>worker</td>\n",
       "    </tr>\n",
       "    <tr>\n",
       "      <th>2</th>\n",
       "      <td>2018-08-28 16:07:00</td>\n",
       "      <td>041_073.png</td>\n",
       "      <td>Alvin, TX, USA</td>\n",
       "      <td>77511</td>\n",
       "      <td>-1</td>\n",
       "      <td>hive being robbed</td>\n",
       "      <td>False</td>\n",
       "      <td>worker</td>\n",
       "    </tr>\n",
       "    <tr>\n",
       "      <th>3</th>\n",
       "      <td>2018-08-28 16:07:00</td>\n",
       "      <td>041_067.png</td>\n",
       "      <td>Alvin, TX, USA</td>\n",
       "      <td>77511</td>\n",
       "      <td>-1</td>\n",
       "      <td>hive being robbed</td>\n",
       "      <td>False</td>\n",
       "      <td>worker</td>\n",
       "    </tr>\n",
       "    <tr>\n",
       "      <th>4</th>\n",
       "      <td>2018-08-28 16:07:00</td>\n",
       "      <td>041_059.png</td>\n",
       "      <td>Alvin, TX, USA</td>\n",
       "      <td>77511</td>\n",
       "      <td>-1</td>\n",
       "      <td>hive being robbed</td>\n",
       "      <td>False</td>\n",
       "      <td>worker</td>\n",
       "    </tr>\n",
       "  </tbody>\n",
       "</table>\n",
       "</div>"
      ],
      "text/plain": [
       "             datetime         file        location  zip code subspecies  \\\n",
       "0 2018-08-28 16:07:00  041_066.png  Alvin, TX, USA     77511         -1   \n",
       "1 2018-08-28 16:07:00  041_072.png  Alvin, TX, USA     77511         -1   \n",
       "2 2018-08-28 16:07:00  041_073.png  Alvin, TX, USA     77511         -1   \n",
       "3 2018-08-28 16:07:00  041_067.png  Alvin, TX, USA     77511         -1   \n",
       "4 2018-08-28 16:07:00  041_059.png  Alvin, TX, USA     77511         -1   \n",
       "\n",
       "              health  pollen_carrying   caste  \n",
       "0  hive being robbed            False  worker  \n",
       "1  hive being robbed            False  worker  \n",
       "2  hive being robbed            False  worker  \n",
       "3  hive being robbed            False  worker  \n",
       "4  hive being robbed            False  worker  "
      ]
     },
     "execution_count": 5,
     "metadata": {},
     "output_type": "execute_result"
    }
   ],
   "source": [
    "img_folder = 'datasets/bees/bee_imgs/bee_imgs/'\n",
    "img_width=100\n",
    "img_height=100\n",
    "img_channels=3\n",
    "\n",
    "bees = pd.read_csv('datasets/bees/bee_data.csv', \n",
    "                index_col=False,  \n",
    "                parse_dates={'datetime':[1,2]},\n",
    "                dtype={'subspecies':'category', 'health':'category','caste':'category'})\n",
    "\n",
    "def read_img(file):\n",
    "    img = skimage.io.imread(img_folder + file)\n",
    "    img = skimage.transform.resize(img, (img_width, img_height), mode='reflect')\n",
    "    return img[:,:,:img_channels]\n",
    "\n",
    "bees.dropna(inplace=True)\n",
    "\n",
    "img_exists = bees['file'].apply(lambda f: os.path.exists(img_folder + f))\n",
    "bees = bees[img_exists]\n",
    "\n",
    "bees.head()"
   ]
  },
  {
   "cell_type": "code",
   "execution_count": 6,
   "metadata": {},
   "outputs": [
    {
     "name": "stdout",
     "output_type": "stream",
     "text": [
      "Index(['-1', '1 Mixed local stock 2', 'Carniolan honey bee',\n",
      "       'Italian honey bee', 'Russian honey bee', 'VSH Italian honey bee',\n",
      "       'Western honey bee'],\n",
      "      dtype='object')\n"
     ]
    },
    {
     "data": {
      "image/png": "[encoded data removed]",
      "text/plain": [
       "<Figure size 864x216 with 7 Axes>"
      ]
     },
     "metadata": {
      "needs_background": "light"
     },
     "output_type": "display_data"
    }
   ],
   "source": [
    "subspecies = bees['subspecies'].cat.categories\n",
    "print(subspecies)\n",
    "f, ax = plt.subplots(nrows=1,ncols=subspecies.size, figsize=(12,3))\n",
    "i=0\n",
    "\n",
    "for s in subspecies:\n",
    "    if s == 'healthy': continue\n",
    "    file=img_folder + bees[bees['subspecies']==s].iloc[0]['file']\n",
    "    im=imageio.imread(file)\n",
    "    ax[i].imshow(im, resample=True)\n",
    "    ax[i].set_title(s, fontsize=8)\n",
    "    i+=1\n",
    "    \n",
    "plt.suptitle(\"Subspecies of Bee\")\n",
    "plt.tight_layout()\n",
    "plt.show()"
   ]
  },
  {
   "cell_type": "code",
   "execution_count": 7,
   "metadata": {},
   "outputs": [],
   "source": [
    "def split_balance(bees, field_name):\n",
    "\n",
    "    train_bees, test_bees = train_test_split(bees, random_state=42)\n",
    "\n",
    "    train_bees, val_bees = train_test_split(train_bees, test_size=0.1, random_state=42)\n",
    "\n",
    "    ncat_bal = int(len(train_bees)/train_bees[field_name].cat.categories.size)\n",
    "    train_bees_bal = train_bees.groupby(field_name, as_index=False).apply(lambda g:  g.sample(ncat_bal, replace=True)).reset_index(drop=True)\n",
    "    return(train_bees_bal, val_bees, test_bees)\n",
    "    \n",
    "\n",
    "train_bees_bal, val_bees, test_bees = split_balance(bees, 'subspecies')\n",
    "train_bees = train_bees_bal\n",
    "\n",
    "def prepare2train(train_bees, val_bees, test_bees, field_name):\n",
    "\n",
    "    train_X = np.stack(train_bees['file'].apply(read_img))\n",
    "    train_y  = pd.get_dummies(train_bees[field_name], drop_first=False)\n",
    "\n",
    "    val_X = np.stack(val_bees['file'].apply(read_img))\n",
    "    val_y = pd.get_dummies(val_bees[field_name], drop_first=False)\n",
    "\n",
    "    test_X = np.stack(test_bees['file'].apply(read_img))\n",
    "    test_y = pd.get_dummies(test_bees[field_name], drop_first=False)\n",
    "\n",
    "    generator = ImageDataGenerator(\n",
    "            featurewise_center=False,  \n",
    "            samplewise_center=False,  \n",
    "            featurewise_std_normalization=False, \n",
    "            samplewise_std_normalization=False, \n",
    "            zca_whitening=False, \n",
    "            rotation_range=180, \n",
    "            zoom_range = 0.1,  \n",
    "            width_shift_range=0.2, \n",
    "            height_shift_range=0.2, \n",
    "            horizontal_flip=True,\n",
    "            vertical_flip=True)\n",
    "    generator.fit(train_X)\n",
    "    return (generator, train_X, val_X, test_X, train_y, val_y, test_y)\n",
    "\n",
    "generator, train_X, val_X, test_X, train_y, val_y, test_y = prepare2train(train_bees, val_bees, test_bees, 'subspecies')"
   ]
  },
  {
   "cell_type": "code",
   "execution_count": 9,
   "metadata": {},
   "outputs": [
    {
     "name": "stdout",
     "output_type": "stream",
     "text": [
      "Epoch 1/20\n",
      "50/50 [==============================] - ETA: 0s - loss: 1.3091 - accuracy: 0.5007\n",
      "Epoch 00001: accuracy improved from -inf to 0.50068, saving model to best_model1.h5\n",
      "50/50 [==============================] - 16s 308ms/step - loss: 1.3091 - accuracy: 0.5007 - val_loss: 1.0797 - val_accuracy: 0.5979\n",
      "Epoch 2/20\n",
      "50/50 [==============================] - ETA: 0s - loss: 0.7190 - accuracy: 0.7688\n",
      "Epoch 00002: accuracy improved from 0.50068 to 0.76884, saving model to best_model1.h5\n",
      "50/50 [==============================] - 15s 305ms/step - loss: 0.7190 - accuracy: 0.7688 - val_loss: 0.6934 - val_accuracy: 0.7216\n",
      "Epoch 3/20\n",
      "50/50 [==============================] - ETA: 0s - loss: 0.5517 - accuracy: 0.8147\n",
      "Epoch 00003: accuracy improved from 0.76884 to 0.81466, saving model to best_model1.h5\n",
      "50/50 [==============================] - 15s 295ms/step - loss: 0.5517 - accuracy: 0.8147 - val_loss: 0.6001 - val_accuracy: 0.7448\n",
      "Epoch 4/20\n",
      "50/50 [==============================] - ETA: 0s - loss: 0.4716 - accuracy: 0.8316\n",
      "Epoch 00004: accuracy improved from 0.81466 to 0.83164, saving model to best_model1.h5\n",
      "50/50 [==============================] - 15s 306ms/step - loss: 0.4716 - accuracy: 0.8316 - val_loss: 0.6372 - val_accuracy: 0.7732\n",
      "Epoch 5/20\n",
      "50/50 [==============================] - ETA: 0s - loss: 0.4428 - accuracy: 0.8496\n",
      "Epoch 00005: accuracy improved from 0.83164 to 0.84963, saving model to best_model1.h5\n",
      "50/50 [==============================] - 15s 305ms/step - loss: 0.4428 - accuracy: 0.8496 - val_loss: 0.4585 - val_accuracy: 0.7990\n",
      "Epoch 6/20\n",
      "50/50 [==============================] - ETA: 0s - loss: 0.3850 - accuracy: 0.8720\n",
      "Epoch 00006: accuracy improved from 0.84963 to 0.87200, saving model to best_model1.h5\n",
      "50/50 [==============================] - 15s 297ms/step - loss: 0.3850 - accuracy: 0.8720 - val_loss: 0.5886 - val_accuracy: 0.8041\n",
      "Epoch 7/20\n",
      "50/50 [==============================] - ETA: 0s - loss: 0.3694 - accuracy: 0.8781\n",
      "Epoch 00007: accuracy improved from 0.87200 to 0.87814, saving model to best_model1.h5\n",
      "50/50 [==============================] - 15s 301ms/step - loss: 0.3694 - accuracy: 0.8781 - val_loss: 0.3730 - val_accuracy: 0.8402\n",
      "Epoch 8/20\n",
      "50/50 [==============================] - ETA: 0s - loss: 0.3363 - accuracy: 0.8883\n",
      "Epoch 00008: accuracy improved from 0.87814 to 0.88832, saving model to best_model1.h5\n",
      "50/50 [==============================] - 17s 331ms/step - loss: 0.3363 - accuracy: 0.8883 - val_loss: 0.7277 - val_accuracy: 0.7139\n",
      "Epoch 9/20\n",
      "50/50 [==============================] - ETA: 0s - loss: 0.3737 - accuracy: 0.8686\n",
      "Epoch 00009: accuracy did not improve from 0.88832\n",
      "50/50 [==============================] - 17s 342ms/step - loss: 0.3737 - accuracy: 0.8686 - val_loss: 0.6804 - val_accuracy: 0.7526\n",
      "Epoch 10/20\n",
      "50/50 [==============================] - ETA: 0s - loss: 0.3209 - accuracy: 0.8927\n",
      "Epoch 00010: accuracy improved from 0.88832 to 0.89274, saving model to best_model1.h5\n",
      "50/50 [==============================] - 17s 340ms/step - loss: 0.3209 - accuracy: 0.8927 - val_loss: 0.3577 - val_accuracy: 0.8557\n",
      "Epoch 11/20\n",
      "50/50 [==============================] - ETA: 0s - loss: 0.2939 - accuracy: 0.9005\n",
      "Epoch 00011: accuracy improved from 0.89274 to 0.90054, saving model to best_model1.h5\n",
      "50/50 [==============================] - 16s 320ms/step - loss: 0.2939 - accuracy: 0.9005 - val_loss: 0.5005 - val_accuracy: 0.7835\n",
      "Epoch 12/20\n",
      "50/50 [==============================] - ETA: 0s - loss: 0.2814 - accuracy: 0.9022\n",
      "Epoch 00012: accuracy improved from 0.90054 to 0.90224, saving model to best_model1.h5\n",
      "50/50 [==============================] - 16s 315ms/step - loss: 0.2814 - accuracy: 0.9022 - val_loss: 0.4478 - val_accuracy: 0.7964\n",
      "Epoch 13/20\n",
      "50/50 [==============================] - ETA: 0s - loss: 0.4546 - accuracy: 0.8527\n",
      "Epoch 00013: accuracy did not improve from 0.90224\n",
      "50/50 [==============================] - 16s 318ms/step - loss: 0.4546 - accuracy: 0.8527 - val_loss: 0.5812 - val_accuracy: 0.7706\n",
      "Epoch 14/20\n",
      "50/50 [==============================] - ETA: 0s - loss: 0.3629 - accuracy: 0.8859\n",
      "Epoch 00014: accuracy did not improve from 0.90224\n",
      "50/50 [==============================] - 18s 361ms/step - loss: 0.3629 - accuracy: 0.8859 - val_loss: 0.4016 - val_accuracy: 0.8402\n",
      "Epoch 15/20\n",
      "50/50 [==============================] - ETA: 0s - loss: 0.2862 - accuracy: 0.9050\n",
      "Epoch 00015: accuracy improved from 0.90224 to 0.90496, saving model to best_model1.h5\n",
      "50/50 [==============================] - 16s 324ms/step - loss: 0.2862 - accuracy: 0.9050 - val_loss: 0.3749 - val_accuracy: 0.8660\n",
      "Epoch 16/20\n",
      "50/50 [==============================] - ETA: 0s - loss: 0.2690 - accuracy: 0.9107\n",
      "Epoch 00016: accuracy improved from 0.90496 to 0.91073, saving model to best_model1.h5\n",
      "50/50 [==============================] - 17s 344ms/step - loss: 0.2690 - accuracy: 0.9107 - val_loss: 0.5673 - val_accuracy: 0.7680\n",
      "Epoch 17/20\n",
      "50/50 [==============================] - ETA: 0s - loss: 0.2609 - accuracy: 0.9084\n",
      "Epoch 00017: accuracy did not improve from 0.91073\n",
      "50/50 [==============================] - 20s 398ms/step - loss: 0.2609 - accuracy: 0.9084 - val_loss: 0.3429 - val_accuracy: 0.8479\n",
      "Epoch 18/20\n",
      "50/50 [==============================] - ETA: 0s - loss: 0.2671 - accuracy: 0.9087\n",
      "Epoch 00018: accuracy did not improve from 0.91073\n",
      "50/50 [==============================] - 21s 418ms/step - loss: 0.2671 - accuracy: 0.9087 - val_loss: 0.3928 - val_accuracy: 0.8531\n",
      "Epoch 19/20\n",
      "50/50 [==============================] - ETA: 0s - loss: 0.2364 - accuracy: 0.9236\n",
      "Epoch 00019: accuracy improved from 0.91073 to 0.92363, saving model to best_model1.h5\n",
      "50/50 [==============================] - 18s 366ms/step - loss: 0.2364 - accuracy: 0.9236 - val_loss: 0.4604 - val_accuracy: 0.8247\n",
      "Epoch 20/20\n",
      "49/50 [============================>.] - ETA: 0s - loss: 0.2392 - accuracy: 0.9190\n",
      "Epoch 00020: accuracy did not improve from 0.92363\n",
      "50/50 [==============================] - 15s 307ms/step - loss: 0.2400 - accuracy: 0.9185 - val_loss: 0.5133 - val_accuracy: 0.8041\n"
     ]
    }
   ],
   "source": [
    "earlystopper1 = EarlyStopping(monitor='loss', patience=10, verbose=1)\n",
    "\n",
    "checkpointer1 = ModelCheckpoint('best_model1.h5'\n",
    "                                ,monitor='accuracy'\n",
    "                                ,verbose=1\n",
    "                                ,save_best_only=True\n",
    "                                ,save_weights_only=True)\n",
    "\n",
    "model1=Sequential()\n",
    "model1.add(Conv2D(6, kernel_size=3, input_shape=(img_width, img_height,3), activation='relu', padding='same'))\n",
    "model1.add(MaxPool2D(2))\n",
    "model1.add(Conv2D(12, kernel_size=3, activation='relu', padding='same'))\n",
    "model1.add(Flatten())\n",
    "model1.add(Dense(train_y.columns.size, activation='softmax'))\n",
    "model1.compile(optimizer='adam', loss='categorical_crossentropy', metrics=['accuracy'])\n",
    "\n",
    "training1 = model1.fit(generator.flow(train_X,train_y, batch_size=60)\n",
    "                        ,epochs=20\n",
    "                        ,validation_data=[val_X, val_y]\n",
    "                        ,steps_per_epoch=50\n",
    "                        ,callbacks=[earlystopper1, checkpointer1])\n",
    "\n",
    "model1.load_weights('best_model1.h5')"
   ]
  },
  {
   "cell_type": "code",
   "execution_count": 11,
   "metadata": {},
   "outputs": [
    {
     "name": "stdout",
     "output_type": "stream",
     "text": [
      "Accuracy on training data: 0.9248422384262085% \n",
      " Error on training data: 0.0751577615737915\n",
      "Accuracy on test data: 0.7695282101631165% \n",
      " Error on test data: 0.23047178983688354\n"
     ]
    }
   ],
   "source": [
    "pred_train = model1.predict(train_X)\n",
    "scores = model1.evaluate(train_X, train_y, verbose=0)\n",
    "print('Accuracy on training data: {}% \\n Error on training data: {}'.format(scores[1], 1 - scores[1]))\n",
    "\n",
    "pred_test = model1.predict(test_X)\n",
    "scores2 = model1.evaluate(test_X, test_y, verbose=0)\n",
    "print('Accuracy on test data: {}% \\n Error on test data: {}'.format(scores2[1], 1 - scores2[1]))"
   ]
  },
  {
   "cell_type": "code",
   "execution_count": null,
   "metadata": {},
   "outputs": [],
   "source": []
  },
  {
   "cell_type": "code",
   "execution_count": null,
   "metadata": {},
   "outputs": [],
   "source": []
  },
  {
   "cell_type": "markdown",
   "metadata": {},
   "source": [
    "## 3. Класифікація текстів"
   ]
  },
  {
   "cell_type": "code",
   "execution_count": 165,
   "metadata": {},
   "outputs": [],
   "source": [
    "df = pd.read_csv(\"datasets/SMSSpamCollection.tsv\", sep='\\t')"
   ]
  },
  {
   "cell_type": "code",
   "execution_count": 166,
   "metadata": {},
   "outputs": [
    {
     "data": {
      "text/html": [
       "<div>\n",
       "<style scoped>\n",
       "    .dataframe tbody tr th:only-of-type {\n",
       "        vertical-align: middle;\n",
       "    }\n",
       "\n",
       "    .dataframe tbody tr th {\n",
       "        vertical-align: top;\n",
       "    }\n",
       "\n",
       "    .dataframe thead th {\n",
       "        text-align: right;\n",
       "    }\n",
       "</style>\n",
       "<table border=\"1\" class=\"dataframe\">\n",
       "  <thead>\n",
       "    <tr style=\"text-align: right;\">\n",
       "      <th></th>\n",
       "      <th>label</th>\n",
       "      <th>message</th>\n",
       "    </tr>\n",
       "  </thead>\n",
       "  <tbody>\n",
       "    <tr>\n",
       "      <th>0</th>\n",
       "      <td>ham</td>\n",
       "      <td>Go until jurong point, crazy.. Available only ...</td>\n",
       "    </tr>\n",
       "    <tr>\n",
       "      <th>1</th>\n",
       "      <td>ham</td>\n",
       "      <td>Ok lar... Joking wif u oni...</td>\n",
       "    </tr>\n",
       "    <tr>\n",
       "      <th>2</th>\n",
       "      <td>spam</td>\n",
       "      <td>Free entry in 2 a wkly comp to win FA Cup fina...</td>\n",
       "    </tr>\n",
       "    <tr>\n",
       "      <th>3</th>\n",
       "      <td>ham</td>\n",
       "      <td>U dun say so early hor... U c already then say...</td>\n",
       "    </tr>\n",
       "    <tr>\n",
       "      <th>4</th>\n",
       "      <td>ham</td>\n",
       "      <td>Nah I don't think he goes to usf, he lives aro...</td>\n",
       "    </tr>\n",
       "  </tbody>\n",
       "</table>\n",
       "</div>"
      ],
      "text/plain": [
       "  label                                            message\n",
       "0   ham  Go until jurong point, crazy.. Available only ...\n",
       "1   ham                      Ok lar... Joking wif u oni...\n",
       "2  spam  Free entry in 2 a wkly comp to win FA Cup fina...\n",
       "3   ham  U dun say so early hor... U c already then say...\n",
       "4   ham  Nah I don't think he goes to usf, he lives aro..."
      ]
     },
     "execution_count": 166,
     "metadata": {},
     "output_type": "execute_result"
    }
   ],
   "source": [
    "df = df[['label', 'message']]\n",
    "df = df[pd.notnull(df['message'])]\n",
    "df.head()"
   ]
  },
  {
   "cell_type": "code",
   "execution_count": 167,
   "metadata": {},
   "outputs": [
    {
     "data": {
      "text/plain": [
       "(5572, 2)"
      ]
     },
     "execution_count": 167,
     "metadata": {},
     "output_type": "execute_result"
    }
   ],
   "source": [
    "df.shape"
   ]
  },
  {
   "cell_type": "code",
   "execution_count": 168,
   "metadata": {},
   "outputs": [
    {
     "data": {
      "text/plain": [
       "87533"
      ]
     },
     "execution_count": 168,
     "metadata": {},
     "output_type": "execute_result"
    }
   ],
   "source": [
    "df.index = range(df.shape[0])\n",
    "df['message'].apply(lambda x: len(x.split(' '))).sum()"
   ]
  },
  {
   "cell_type": "code",
   "execution_count": 169,
   "metadata": {},
   "outputs": [
    {
     "data": {
      "image/png": "[encoded data removed]",
      "text/plain": [
       "<Figure size 864x288 with 1 Axes>"
      ]
     },
     "metadata": {
      "needs_background": "light"
     },
     "output_type": "display_data"
    }
   ],
   "source": [
    "cnt_pro = df['label'].value_counts()\n",
    "plt.figure(figsize=(12, 4))\n",
    "sns.barplot(cnt_pro.index, cnt_pro.values, alpha=0.8)\n",
    "plt.ylabel('Number of Occurrences', fontsize=12)\n",
    "plt.xlabel('label', fontsize=12)\n",
    "plt.xticks(rotation=90)\n",
    "plt.show();"
   ]
  },
  {
   "cell_type": "code",
   "execution_count": 170,
   "metadata": {},
   "outputs": [],
   "source": [
    "labels = sorted(list(set(df.label)))\n",
    "for i in range(len(labels)):\n",
    "    df.label[df.label == labels[i]] = i"
   ]
  },
  {
   "cell_type": "code",
   "execution_count": 171,
   "metadata": {},
   "outputs": [
    {
     "data": {
      "text/plain": [
       "{0: 'ham', 1: 'spam'}"
      ]
     },
     "execution_count": 171,
     "metadata": {},
     "output_type": "execute_result"
    }
   ],
   "source": [
    "labels_map = {i: labels[i] for i in range(len(labels))}\n",
    "labels_map"
   ]
  },
  {
   "cell_type": "code",
   "execution_count": 172,
   "metadata": {},
   "outputs": [],
   "source": [
    "X = df['message']\n",
    "y = df['label']"
   ]
  },
  {
   "cell_type": "code",
   "execution_count": 173,
   "metadata": {},
   "outputs": [],
   "source": [
    "X_train, X_test, y_train, y_test = train_test_split(X, y, test_size=0.20, random_state=100)"
   ]
  },
  {
   "cell_type": "code",
   "execution_count": 174,
   "metadata": {},
   "outputs": [],
   "source": [
    "y_train = np_utils.to_categorical(y_train, len(labels))\n",
    "y_test = np_utils.to_categorical(y_test, len(labels))"
   ]
  },
  {
   "cell_type": "code",
   "execution_count": 175,
   "metadata": {},
   "outputs": [],
   "source": [
    "tokenizer = Tokenizer(num_words=100)\n",
    "tokenizer.fit_on_texts(X_train)"
   ]
  },
  {
   "cell_type": "code",
   "execution_count": 176,
   "metadata": {},
   "outputs": [],
   "source": [
    "x_train = tokenizer.texts_to_sequences(X_train)\n",
    "x_train = pad_sequences(x_train, maxlen=30)\n",
    "\n",
    "x_test = tokenizer.texts_to_sequences(X_test)\n",
    "x_test = pad_sequences(x_test, maxlen=30)"
   ]
  },
  {
   "cell_type": "code",
   "execution_count": 177,
   "metadata": {},
   "outputs": [],
   "source": [
    "model = Sequential()\n",
    "\n",
    "model.add(Embedding(100, 32, input_length=30))\n",
    "model.add(LSTM(64))\n",
    "model.add(Dropout(0.2))\n",
    "model.add(Dense(2, activation='sigmoid'))"
   ]
  },
  {
   "cell_type": "code",
   "execution_count": 178,
   "metadata": {},
   "outputs": [],
   "source": [
    "model.compile(\n",
    "    optimizer='adam',\n",
    "    loss='categorical_crossentropy',\n",
    "    metrics=['accuracy'])"
   ]
  },
  {
   "cell_type": "code",
   "execution_count": 179,
   "metadata": {},
   "outputs": [
    {
     "name": "stdout",
     "output_type": "stream",
     "text": [
      "Epoch 1/20\n",
      "140/140 [==============================] - 7s 29ms/step - loss: 0.2815 - accuracy: 0.9028 - val_loss: 0.1266 - val_accuracy: 0.9632\n",
      "Epoch 2/20\n",
      "140/140 [==============================] - 3s 24ms/step - loss: 0.1170 - accuracy: 0.9578 - val_loss: 0.0995 - val_accuracy: 0.9641\n",
      "Epoch 3/20\n",
      "140/140 [==============================] - 4s 25ms/step - loss: 0.1010 - accuracy: 0.9650 - val_loss: 0.0992 - val_accuracy: 0.9641\n",
      "Epoch 4/20\n",
      "140/140 [==============================] - 4s 28ms/step - loss: 0.0974 - accuracy: 0.9670 - val_loss: 0.0946 - val_accuracy: 0.9668\n",
      "Epoch 5/20\n",
      "140/140 [==============================] - 5s 38ms/step - loss: 0.0945 - accuracy: 0.9695 - val_loss: 0.0958 - val_accuracy: 0.9659\n",
      "Epoch 6/20\n",
      "140/140 [==============================] - 4s 25ms/step - loss: 0.0907 - accuracy: 0.9704 - val_loss: 0.1036 - val_accuracy: 0.9668\n",
      "Epoch 7/20\n",
      "140/140 [==============================] - 4s 28ms/step - loss: 0.0862 - accuracy: 0.9704 - val_loss: 0.0934 - val_accuracy: 0.9686\n",
      "Epoch 8/20\n",
      "140/140 [==============================] - 3s 23ms/step - loss: 0.0856 - accuracy: 0.9711 - val_loss: 0.0962 - val_accuracy: 0.9686\n",
      "Epoch 9/20\n",
      "140/140 [==============================] - 3s 22ms/step - loss: 0.0832 - accuracy: 0.9742 - val_loss: 0.0923 - val_accuracy: 0.9704\n",
      "Epoch 10/20\n",
      "140/140 [==============================] - 3s 23ms/step - loss: 0.0825 - accuracy: 0.9733 - val_loss: 0.0913 - val_accuracy: 0.9713\n",
      "Epoch 11/20\n",
      "140/140 [==============================] - 3s 23ms/step - loss: 0.0792 - accuracy: 0.9760 - val_loss: 0.0905 - val_accuracy: 0.9659\n",
      "Epoch 12/20\n",
      "140/140 [==============================] - 3s 22ms/step - loss: 0.0776 - accuracy: 0.9755 - val_loss: 0.0881 - val_accuracy: 0.9722\n",
      "Epoch 13/20\n",
      "140/140 [==============================] - 3s 22ms/step - loss: 0.0784 - accuracy: 0.9764 - val_loss: 0.0892 - val_accuracy: 0.9722\n",
      "Epoch 14/20\n",
      "140/140 [==============================] - 3s 21ms/step - loss: 0.0748 - accuracy: 0.9767 - val_loss: 0.0888 - val_accuracy: 0.9704\n",
      "Epoch 15/20\n",
      "140/140 [==============================] - 3s 23ms/step - loss: 0.0752 - accuracy: 0.9767 - val_loss: 0.0902 - val_accuracy: 0.9650\n",
      "Epoch 16/20\n",
      "140/140 [==============================] - 3s 22ms/step - loss: 0.0718 - accuracy: 0.9798 - val_loss: 0.1116 - val_accuracy: 0.9614\n",
      "Epoch 17/20\n",
      "140/140 [==============================] - 4s 26ms/step - loss: 0.0748 - accuracy: 0.9758 - val_loss: 0.0889 - val_accuracy: 0.9713\n",
      "Epoch 18/20\n",
      "140/140 [==============================] - 3s 24ms/step - loss: 0.0674 - accuracy: 0.9796 - val_loss: 0.0846 - val_accuracy: 0.9695\n",
      "Epoch 19/20\n",
      "140/140 [==============================] - 3s 23ms/step - loss: 0.0680 - accuracy: 0.9791 - val_loss: 0.0870 - val_accuracy: 0.9695\n",
      "Epoch 20/20\n",
      "140/140 [==============================] - 3s 22ms/step - loss: 0.0643 - accuracy: 0.9809 - val_loss: 0.0924 - val_accuracy: 0.9668\n"
     ]
    },
    {
     "data": {
      "text/plain": [
       "<keras.callbacks.History at 0x2510d888430>"
      ]
     },
     "execution_count": 179,
     "metadata": {},
     "output_type": "execute_result"
    }
   ],
   "source": [
    "model.fit(x_train, y_train, validation_data=(x_test, y_test), batch_size=32, epochs=20)"
   ]
  },
  {
   "cell_type": "code",
   "execution_count": 182,
   "metadata": {},
   "outputs": [
    {
     "name": "stdout",
     "output_type": "stream",
     "text": [
      "35/35 [==============================] - 0s 12ms/step - loss: 0.0924 - accuracy: 0.9668\n",
      "Accuracy: 0.9668161273002625\n"
     ]
    }
   ],
   "source": [
    "scores = model.evaluate(x_test, y_test)\n",
    "print('Accuracy:', scores[1])"
   ]
  },
  {
   "cell_type": "code",
   "execution_count": 183,
   "metadata": {},
   "outputs": [
    {
     "name": "stdout",
     "output_type": "stream",
     "text": [
      "Loss: 0.0924268513917923\n"
     ]
    }
   ],
   "source": [
    "print('Loss: ', scores[0])"
   ]
  },
  {
   "cell_type": "code",
   "execution_count": null,
   "metadata": {},
   "outputs": [],
   "source": []
  },
  {
   "cell_type": "code",
   "execution_count": null,
   "metadata": {},
   "outputs": [],
   "source": []
  },
  {
   "cell_type": "code",
   "execution_count": null,
   "metadata": {},
   "outputs": [],
   "source": []
  }
 ],
 "metadata": {
  "kernelspec": {
   "display_name": "Python 3",
   "language": "python",
   "name": "python3"
  },
  "language_info": {
   "codemirror_mode": {
    "name": "ipython",
    "version": 3
   },
   "file_extension": ".py",
   "mimetype": "text/x-python",
   "name": "python",
   "nbconvert_exporter": "python",
   "pygments_lexer": "ipython3",
   "version": "3.8.3"
  }
 },
 "nbformat": 4,
 "nbformat_minor": 4
}
